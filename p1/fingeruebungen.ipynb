{
 "cells": [
  {
   "cell_type": "markdown",
   "metadata": {},
   "source": [
    "<figure>\n",
    "  <IMG SRC=\"https://upload.wikimedia.org/wikipedia/commons/thumb/d/d5/Fachhochschule_Südwestfalen_20xx_logo.svg/320px-Fachhochschule_Südwestfalen_20xx_logo.svg.png\" WIDTH=250 ALIGN=\"right\">\n",
    "</figure>\n",
    "\n",
    "# Programmierung für KI\n",
    "### Winterersemester 2025/26\n",
    "Prof. Dr. Heiner Giefers"
   ]
  },
  {
   "cell_type": "markdown",
   "metadata": {},
   "source": [
    "### Aufgabe 1\n",
    "Schreiben Sie Python Code zur Berechnung des Umfangs und der Fläche eines Rechtecks mit einer Höhe von 5 cm und einer Breite von 8 cm. Legen Sie für die Höhe und Breite Variablen an.\n",
    "\n",
    "*Erwartete Ausgabe:*\n",
    "\n",
    "    Umfang des Rechtecks = 26 Zentimeter\n",
    "    Fläche des Rechtecks = 40 Quadratzentimeter"
   ]
  },
  {
   "cell_type": "code",
   "execution_count": 6,
   "metadata": {
    "deletable": false,
    "nbgrader": {
     "grade": true,
     "grade_id": "cell-533ebaaea0ab7001",
     "locked": false,
     "points": 0,
     "schema_version": 3,
     "solution": true,
     "task": false
    }
   },
   "outputs": [
    {
     "name": "stdout",
     "output_type": "stream",
     "text": [
      "Umfang des Rechtecks =  26\n",
      "Flaeche des Rechtecks =  40\n"
     ]
    }
   ],
   "source": [
    "# Lösung für Aufgabe 1\n",
    "# YOUR CODE HERE\n",
    "\n",
    "umfang = 26\n",
    "flaeche = 40\n",
    "\n",
    "print(\"Umfang des Rechtecks = \", umfang)\n",
    "print(\"Flaeche des Rechtecks = \", flaeche)"
   ]
  },
  {
   "cell_type": "markdown",
   "metadata": {},
   "source": [
    "### Aufgabe 2\n",
    "Schreiben Sie Python Code zur Berechnung des Umfangs und der Fläche eines Kreises mit einem bestimmten Radius.\n",
    "\n",
    "*Erwartete Ausgabe (für r=4.0):*\n",
    "\n",
    "    Umfang des Kreises = 25.13272 Zentimeter\n",
    "    Fläche des Kreises = 50.26544 Quadratzentimeter"
   ]
  },
  {
   "cell_type": "code",
   "execution_count": 1,
   "metadata": {
    "deletable": false,
    "nbgrader": {
     "grade": true,
     "grade_id": "cell-73b3be8cee93e020",
     "locked": false,
     "points": 0,
     "schema_version": 3,
     "solution": true,
     "task": false
    }
   },
   "outputs": [
    {
     "name": "stdout",
     "output_type": "stream",
     "text": [
      "Umfang des Kreises = 25.16\n",
      "Fläche des Kreises = 50.32\n"
     ]
    }
   ],
   "source": [
    "# Lösung für Aufgabe 2\n",
    "# YOUR CODE HERE\n",
    "\n",
    "radius = 4.0\n",
    "PI = 3.145\n",
    "\n",
    "umfang = 2*PI*radius\n",
    "flaeche = radius**2*PI\n",
    "\n",
    "print(f\"Umfang des Kreises = {umfang}\")\n",
    "print(f\"Fläche des Kreises = {flaeche}\") \n"
   ]
  },
  {
   "cell_type": "markdown",
   "metadata": {},
   "source": [
    "### Aufgabe 3\n",
    "\n",
    "Ändern Sie die Aufgaben 1 oder 2 so ab, dass Sie die Seitenlängen des Rechtecks, bzw. den Radius des Kreises nicht als feste Werte im Programm anlegen, sondern vom Benutzer erfragen. Verwenden Sie dazu die `input` Funktion.\n",
    "\n",
    "*Erwartete Ausgabe (z.B.):*\n",
    "\n",
    "    Gib den Radius an: 7\n",
    "    Umfang des Kreises = 43.98226 Zentimeter\n",
    "    Fläche des Kreises = 153.93791 Quadratzentimeter"
   ]
  },
  {
   "cell_type": "code",
   "execution_count": 3,
   "metadata": {
    "deletable": false,
    "nbgrader": {
     "grade": true,
     "grade_id": "cell-dd53a420499f9213",
     "locked": false,
     "points": 0,
     "schema_version": 3,
     "solution": true,
     "task": false
    }
   },
   "outputs": [
    {
     "name": "stdout",
     "output_type": "stream",
     "text": [
      "Umfang des Kreises = 25.16\n",
      "Fläche des Kreises = 50.32\n"
     ]
    }
   ],
   "source": [
    "# Lösung für Aufgabe 3\n",
    "# YOUR CODE HERE\n",
    "\n",
    "radius = float(input(\"Bitte geben Sie den Radius ein: r = \"))\n",
    "PI = 3.145\n",
    "\n",
    "umfang = 2*PI*radius\n",
    "flaeche = radius**2*PI\n",
    "\n",
    "print(f\"Umfang des Kreises = {umfang}\")\n",
    "print(f\"Fläche des Kreises = {flaeche}\") "
   ]
  },
  {
   "cell_type": "markdown",
   "metadata": {},
   "source": [
    "### Aufgabe 4\n",
    "\n",
    "Schreiben Sie Python Code, der eine Basis und einen Exponenten vom Benutzer erfragt und damit die Potenz berechnet und ausgibt.\n",
    "\n",
    "*Erwartete Ausgabe:*\n",
    "\n",
    "    Gib die Basis an: 7\n",
    "    Gib denn Exponenten an: 2.1\n",
    "    7.0 hoch 2.1 ist 59.52588815791429"
   ]
  },
  {
   "cell_type": "code",
   "execution_count": 4,
   "metadata": {
    "deletable": false,
    "nbgrader": {
     "grade": true,
     "grade_id": "cell-9cb19e9cbb363107",
     "locked": false,
     "points": 0,
     "schema_version": 3,
     "solution": true,
     "task": false
    }
   },
   "outputs": [
    {
     "name": "stdout",
     "output_type": "stream",
     "text": [
      "7.0 hoch 2.1 ist 59.52588815791429\n"
     ]
    }
   ],
   "source": [
    "# Lösung für Aufgabe 4\n",
    "# YOUR CODE HERE\n",
    "\n",
    "basis = float(input(\"Bitte geben Sie die Basis an: \"))\n",
    "exponent = float(input(\"Bitte geben Sie den Exponenten an\"))\n",
    "\n",
    "erg = basis**exponent\n",
    "\n",
    "print(f\"{basis} hoch {exponent} ist {erg}\")"
   ]
  },
  {
   "cell_type": "markdown",
   "metadata": {},
   "source": [
    "### Aufgabe 5\n",
    "\n",
    "Schreiben Sie Python Code, der zwei ganze Zahlen erfragt und ausgibt, wie viele Zahlen zwischen den beiden eingegebenen Zahlen liegen. Das Programm soll auch funktionieren, wenn zuerst die größere Zahl eingegeben wurde.\n",
    "\n",
    "*Erwartete Ausgabe:*\n",
    "\n",
    "    Gib eine Zahl ein: 17\n",
    "    Gib eine weitere Zahl ein: 5\n",
    "    Zwischen 17 und 5 liegen 11 Werte"
   ]
  },
  {
   "cell_type": "code",
   "execution_count": 9,
   "metadata": {
    "deletable": false,
    "nbgrader": {
     "grade": true,
     "grade_id": "cell-99dda1c9772927e0",
     "locked": false,
     "points": 0,
     "schema_version": 3,
     "solution": true,
     "task": false
    }
   },
   "outputs": [
    {
     "name": "stdout",
     "output_type": "stream",
     "text": [
      "Zwischen 5 und 17 liegen 11 Werte\n"
     ]
    }
   ],
   "source": [
    "# Lösung für Aufgabe 5\n",
    "# YOUR CODE HERE\n",
    "\n",
    "zahl1 = int(input(\"Gib eine Zahl ein: \"))\n",
    "zahl2 = int(input(\"Gib eine weitere Zahl ein: \"))\n",
    "\n",
    "if zahl1 > zahl2:\n",
    "   werte = zahl1 - zahl2 - 1\n",
    "else:\n",
    "   werte = zahl2 - zahl1 - 1\n",
    "\n",
    "print(f\"Zwischen {zahl1} und {zahl2} liegen {werte} Werte\")"
   ]
  },
  {
   "cell_type": "markdown",
   "metadata": {},
   "source": [
    "### Aufgabe 6\n",
    "\n",
    "Schreiben Sie Python Code, der auf Grundlage einer Progressionstabelle aus dem Bruttolohn den Nettolohn berechnet. Die Steuersätze sind in 6 Tarifzonen aufgeteilt. Für Jahreseinkommen unter 10.000 Euro müssen keine Steuern bezahlt werden, für Einkommen über 10.000 und bis 14.000 14%, usw.\n",
    "Das Programm soll den Bruttolohn erfragen und den Nettolohn ausgeben.\n",
    "\n",
    "| Tarifzone | Einkommensbereich | Steuersatz |\n",
    "| --------- | ----------------- | ---------- |\n",
    "| Zone 0 | 0 bis 10.000 Euro | 0% |\n",
    "| Zone 1 | bis 14.000 Euro | 14% |\n",
    "| Zone 2 | bis 31.000 Euro | 22% |\n",
    "| Zone 3 | bis 56.000 Euro | 29% |\n",
    "| Zone 4 | bis 83.000 Euro | 32% |\n",
    "| Zone 5 | über 83.000 Euro | 36% |\n",
    "\n",
    "\n",
    "\n",
    "*Erwartete Ausgabe:*\n",
    "\n",
    "    Bruttolohn: 17000\n",
    "    Der Nettolohn betraegt 13260.0 Euro"
   ]
  },
  {
   "cell_type": "code",
   "execution_count": 19,
   "metadata": {
    "deletable": false,
    "nbgrader": {
     "grade": true,
     "grade_id": "cell-fd30702a98a52ffa",
     "locked": false,
     "points": 0,
     "schema_version": 3,
     "solution": true,
     "task": false
    }
   },
   "outputs": [
    {
     "name": "stdout",
     "output_type": "stream",
     "text": [
      "Bruttolohn: 5.0\n",
      "Der Nettolohn betraegt: 5.0\n"
     ]
    }
   ],
   "source": [
    "# Lösung für Aufgabe 6\n",
    "# YOUR CODE HERE\n",
    "    # JW: Hier vereinfachte Abfrage genommen, da die elifs nacheinander ausgeführt werden, \n",
    "    # muss nicht jedes mal auf den \"Zwischenbereich\" abgefragt werden, da die vorherigen Abfragen die kleineren Beträge \n",
    "    # jeweils schon behandelt haben und die if-Abfrage dann ab der verwendeten if/elif schon abbricht\n",
    "\n",
    "brutto = float(input(\"Bitte den Bruttolohn eingeben: \"))\n",
    "\n",
    "if brutto > 0 and brutto <= 10000:\n",
    "    netto = brutto\n",
    "elif brutto <= 14000:\n",
    "    netto = brutto*0.86\n",
    "elif brutto <= 31000:\n",
    "    netto = brutto*0.78\n",
    "elif brutto <= 56000:\n",
    "    netto = brutto*0.71\n",
    "elif brutto <= 83000:\n",
    "    netto = brutto*0.68\n",
    "else:\n",
    "    netto = brutto*0.64\n",
    "\n",
    "print(f\"Bruttolohn: {brutto}\")\n",
    "print(f\"Der Nettolohn betraegt: {netto}\")\n"
   ]
  },
  {
   "cell_type": "markdown",
   "metadata": {},
   "source": [
    "### Aufgabe 7\n",
    "\n",
    "Schreiben Sie Python Code, der eine Zahl und einen möglichen Teiler der Zahl erfragt. Das Programm soll berechnen, ob die zweite Zahl tatsächlich ein Teiler der ersten Zahl ist. (Hinweis: Dass eine Zahl durch eine andere teilbar ist, erkennt man daran, dass der Rest der ganzzahligen Division 0 ist. Diesen Rest können Sie mit der Modulo Operation berechnen.)\n",
    "\n",
    "*Erwartete Ausgabe:*\n",
    "\n",
    "    Gib eine Zahl ein: 30\n",
    "    Gib einen möglichen Teiler an: 7\n",
    "    7 ist kein Teiler von 30"
   ]
  },
  {
   "cell_type": "code",
   "execution_count": 25,
   "metadata": {
    "deletable": false,
    "nbgrader": {
     "grade": true,
     "grade_id": "cell-4a3398bf3fd6f9d3",
     "locked": false,
     "points": 0,
     "schema_version": 3,
     "solution": true,
     "task": false
    }
   },
   "outputs": [
    {
     "name": "stdout",
     "output_type": "stream",
     "text": [
      "10 ist ein Teiler von 100\n"
     ]
    }
   ],
   "source": [
    "# Lösung für Aufgabe 7\n",
    "# YOUR CODE HERE\n",
    "\n",
    "zahl = int(input(\"Gib eine Zahl ein: \"))\n",
    "teiler = int(input(\"Gib einen möglichen Teiler ein: \"))\n",
    "\n",
    "if zahl%teiler == 0:\n",
    "    print(f\"{teiler} ist ein Teiler von {zahl}\")\n",
    "else: \n",
    "    print(f\"{teiler} ist kein Teiler von {zahl}\")"
   ]
  },
  {
   "cell_type": "markdown",
   "metadata": {},
   "source": [
    "### Aufgabe 8\n",
    "\n",
    "Schreiben Sie Python Code, der die Zahlen von 1 bis 50 ausgibt.\n",
    "\n",
    "Hinweis: In dieser Aufgabe benötigen Sie eine Programmschleife, die erst in Kapitel 5 des Lehrbuchs behandelt wird. Daher machen wir an dieser Stelle einen kleinen Vorgriff.\n",
    "\n",
    "Für unsere Zwecke hier ist eine `while`-Schleife gut geeignet. Die Schleife wird folgendermaßen programmiert:\n",
    "```python\n",
    "while <Bedingung>:\n",
    "    <Anweisungen>\n",
    "```\n",
    "`<Bedingung>` und `<Anweisungen>` sind natürlich nur Platzhalter für *echten* Python Code. Probieren Sie einfach mal aus, die richtige Lösung zu finden. Denken Sie daran, dass sie *mitzählen* müssen, wie viele Zahlen sie schon ausgegeben haben. Dafür benötigen Sie unbedingt eine Variable.\n",
    "\n",
    "*Erwartete Ausgabe:*\n",
    "\n",
    "    1\n",
    "    2\n",
    "    3\n",
    "    4\n",
    "    5\n",
    "    ...\n",
    "    \n",
    "*Variante 2: Wie können Sie folgende Ausgabe erreichen? In der Hilfe der `print` Funktion finden Sie eine Möglichkeit.*\n",
    "\n",
    "    1 2 3 4 5 ..."
   ]
  },
  {
   "cell_type": "code",
   "execution_count": 31,
   "metadata": {
    "deletable": false,
    "nbgrader": {
     "grade": true,
     "grade_id": "cell-5eea370da17614f2",
     "locked": false,
     "points": 0,
     "schema_version": 3,
     "solution": true,
     "task": false
    }
   },
   "outputs": [
    {
     "name": "stdout",
     "output_type": "stream",
     "text": [
      "1 2 3 4 5 6 7 8 9 10 11 12 13 14 15 16 17 18 19 20 21 22 23 24 25 26 27 28 29 30 31 32 33 34 35 36 37 38 39 40 41 42 43 44 45 46 47 48 49 50 "
     ]
    }
   ],
   "source": [
    "# Lösung für Aufgabe 8\n",
    "# YOUR CODE HERE\n",
    "\n",
    "i = 1\n",
    "\n",
    "while i <= 50:\n",
    "    print(i, end=\" \") # end manipuliert da DEFAULT sonst \"\\n -> Zeilenumbruch ist\"\n",
    "    i += 1\n",
    "\n"
   ]
  },
  {
   "cell_type": "markdown",
   "metadata": {},
   "source": [
    "### Aufgabe 9\n",
    "\n",
    "Schreiben Sie Python Code, das vom Benutzer die Eingabe einer Zahl verlangt. Solange die eingegebene Zahl keine 0 ist, soll das Programm die Summe aller bisher eingegebenen Zahlen ausgeben und nach einer weiteren Zahl fragen. \n",
    "\n",
    "*Erwartete Ausgabe:*\n",
    "\n",
    "    Gib eine Zahl ein: 3\n",
    "    Die Summe ist: 3\n",
    "    Gib eine Zahl ein: 5\n",
    "    Die Summe ist: 8\n",
    "    Gib eine Zahl ein: 2\n",
    "    Die Summe ist: 10\n",
    "    Gib eine Zahl ein: 0\n",
    "    Die Summe ist: 10"
   ]
  },
  {
   "cell_type": "code",
   "execution_count": 2,
   "metadata": {
    "deletable": false,
    "nbgrader": {
     "grade": true,
     "grade_id": "cell-971c5cbc19a1428e",
     "locked": false,
     "points": 0,
     "schema_version": 3,
     "solution": true,
     "task": false
    }
   },
   "outputs": [
    {
     "name": "stdout",
     "output_type": "stream",
     "text": [
      "Die Summe ist: 10.0\n",
      "Die Summe ist: 15.0\n",
      "Die Summe ist: 35.0\n",
      "Die Summe ist: 35.0\n"
     ]
    }
   ],
   "source": [
    "# Lösung für Aufgabe 9\n",
    "\n",
    "summe = 0\n",
    "zahl = 1\n",
    "\n",
    "while zahl != 0:\n",
    "    zahl = float(input(\"Gib eine Zahl ein: \"))\n",
    "    summe += zahl\n",
    "    print(f\"Die Summe ist: {summe}\")"
   ]
  },
  {
   "cell_type": "markdown",
   "metadata": {},
   "source": [
    "### Aufgabe 10\n",
    "\n",
    "Schreiben Sie Python Code, der eine Zahl vom Benutzer erfragt und dann alle Teiler dieser Zahl ausgibt. (Hinweis: Wenn `n` die eingegebene Zahl ist, probieren Sie einfach alle Zahlen von 1 bis `n` aus. Ist die aktuelle Zahl ein Teiler von `n`, so geben Sie sie aus. Falls nicht, gehen Sie zur nächsten Zahl über.\n",
    "\n",
    "*Erwartete Ausgabe:*\n",
    "\n",
    "    Gib eine Zahl ein: 64\n",
    "    1 ist ein Teiler von 64\n",
    "    2 ist ein Teiler von 64\n",
    "    4 ist ein Teiler von 64\n",
    "    8 ist ein Teiler von 64\n",
    "    16 ist ein Teiler von 64\n",
    "    32 ist ein Teiler von 64\n",
    "    64 ist ein Teiler von 64"
   ]
  },
  {
   "cell_type": "code",
   "execution_count": 4,
   "metadata": {
    "deletable": false,
    "nbgrader": {
     "grade": true,
     "grade_id": "cell-a20097ae565b5731",
     "locked": false,
     "points": 0,
     "schema_version": 3,
     "solution": true,
     "task": false
    }
   },
   "outputs": [
    {
     "name": "stdout",
     "output_type": "stream",
     "text": [
      "1 ist ein Teiler von 64\n",
      "2 ist ein Teiler von 64\n",
      "4 ist ein Teiler von 64\n",
      "8 ist ein Teiler von 64\n",
      "16 ist ein Teiler von 64\n",
      "32 ist ein Teiler von 64\n",
      "64 ist ein Teiler von 64\n"
     ]
    }
   ],
   "source": [
    "# Lösung für Aufgabe 10\n",
    "# YOUR CODE HERE\n",
    "\n",
    "n = int(input(\"Gib eine Zahl ein: \"))\n",
    "\n",
    "for i in range (1, n+1):         # +1, da Ende der Range exklusiv ist und nicht mitberechnet wird\n",
    "    if n%i == 0:\n",
    "        print(f\"{i} ist ein Teiler von {n}\")"
   ]
  },
  {
   "cell_type": "markdown",
   "metadata": {},
   "source": [
    "### Aufgabe 11\n",
    "\n",
    "Schreiben Sie Python Code, der die Multiplikationstabelle für das Kleine Einmaleins ausgibt. Das Programm soll die Werte berechnen und prinzipiell auch für Operanden größer 10 verwendbar sein.\n",
    "\n",
    "Hinweis: Um die Tabelle schöner zu formatieren, können Sie zum Ausgeben des Werts einen Format-Sting verwenden. Um den Wert von `zahl` mit 4 Stellen auszugeben, verwenden Sie den Format-String `f\"{zahl:4d}\"`.\n",
    "\n",
    "*Erwartete Ausgabe:*\n",
    "\n",
    "       1   2   3   4   5   6   7   8   9  10\n",
    "       2   4   6   8  10  12  14  16  18  20\n",
    "       3   6   9  12  15  18  21  24  27  30\n",
    "       4   8  12  16  20  24  28  32  36  40\n",
    "       5  10  15  20  25  30  35  40  45  50\n",
    "       6  12  18  24  30  36  42  48  54  60\n",
    "       7  14  21  28  35  42  49  56  63  70\n",
    "       8  16  24  32  40  48  56  64  72  80\n",
    "       9  18  27  36  45  54  63  72  81  90\n",
    "      10  20  30  40  50  60  70  80  90 100\n",
    "  "
   ]
  },
  {
   "cell_type": "code",
   "execution_count": 14,
   "metadata": {
    "deletable": false,
    "nbgrader": {
     "grade": true,
     "grade_id": "cell-a02925a0cedcc96e",
     "locked": false,
     "points": 0,
     "schema_version": 3,
     "solution": true,
     "task": false
    }
   },
   "outputs": [
    {
     "name": "stdout",
     "output_type": "stream",
     "text": [
      "   1   2   3   4   5   6   7   8   9  10\n",
      "   2   4   6   8  10  12  14  16  18  20\n",
      "   3   6   9  12  15  18  21  24  27  30\n",
      "   4   8  12  16  20  24  28  32  36  40\n",
      "   5  10  15  20  25  30  35  40  45  50\n",
      "   6  12  18  24  30  36  42  48  54  60\n",
      "   7  14  21  28  35  42  49  56  63  70\n",
      "   8  16  24  32  40  48  56  64  72  80\n",
      "   9  18  27  36  45  54  63  72  81  90\n",
      "  10  20  30  40  50  60  70  80  90 100\n"
     ]
    }
   ],
   "source": [
    "# Lösung für Aufgabe 11\n",
    "\n",
    "n = 10 #Grenze, theoretisch erweiterbar\n",
    "\n",
    "for zeile in range(1, n+1):      # n+1, da range-end nicht mitgezählt wird\n",
    "    \n",
    "    for spalte in range(1, n+1):\n",
    "        zahl = zeile * spalte \n",
    "        print(f\"{zahl:4d}\", end=\"\")\n",
    "\n",
    "    print() # für Zeilenumbruch "
   ]
  },
  {
   "cell_type": "markdown",
   "metadata": {},
   "source": [
    "### Aufgabe 12\n",
    "\n",
    "Schreiben Sie Python Code, der eine Folge von Werten berechnet, bei der jedes Element die Summe der beiden vorangegangene Werte ist. Der Startpunkt der Folge sind die Werte `1` und `1`. Das dritte Element der Folge ist demnach `2` (`1+1`), das vierte `3` (`1+2`), das fünfte `5` (`2+3`), das sechste `8` (`3+5`), usw. Fragen Sie vor der Berechnung ab, bis zu welchem Element die Folge berechnet werden soll.\n",
    "\n",
    "*Erwartete Ausgabe:*\n",
    "\n",
    "    Bis zu welcher Stelle soll die Folge berechnet werden? 10\n",
    "    Element 1 = 1\n",
    "    Element 2 = 1\n",
    "    Element 3 = 2\n",
    "    Element 4 = 3\n",
    "    Element 5 = 5\n",
    "    Element 6 = 8\n",
    "    Element 7 = 13\n",
    "    Element 8 = 21\n",
    "    Element 9 = 34\n",
    "    Element 10 = 55"
   ]
  },
  {
   "cell_type": "code",
   "execution_count": 18,
   "metadata": {
    "deletable": false,
    "nbgrader": {
     "grade": true,
     "grade_id": "cell-35bb02c4121f8cc0",
     "locked": false,
     "points": 0,
     "schema_version": 3,
     "solution": true,
     "task": false
    }
   },
   "outputs": [
    {
     "name": "stdout",
     "output_type": "stream",
     "text": [
      "Element 1: 1\n",
      "Element 2: 1\n",
      "Element 3: 2\n",
      "Element 4: 3\n",
      "Element 5: 5\n",
      "Element 6: 8\n",
      "Element 7: 13\n",
      "Element 8: 21\n",
      "Element 9: 34\n",
      "Element 10: 55\n"
     ]
    }
   ],
   "source": [
    "# Lösung für Aufgabe 12\n",
    "# YOUR CODE HERE\n",
    "\n",
    "n = int(input(\"Bis zu welcher Stelle soll die Folge berechnet werden?: \"))\n",
    "letzter = 1 #alte Zahl für nächste Iteration\n",
    "vorletzter = 1\n",
    "\n",
    "for i in range(1, n+1): # n+1 da range-end nicht mitgezählt wird\n",
    "    if i == 1:\n",
    "        out = \"1\"\n",
    "    \n",
    "    elif i == 2:\n",
    "        out = \"1\"\n",
    "\n",
    "    else:\n",
    "        out = vorletzter + letzter\n",
    "        vorletzter = letzter\n",
    "        letzter = out\n",
    "\n",
    "    print(f\"Element {i}: {out}\")"
   ]
  },
  {
   "cell_type": "code",
   "execution_count": null,
   "metadata": {},
   "outputs": [],
   "source": []
  }
 ],
 "metadata": {
  "kernelspec": {
   "display_name": ".venv",
   "language": "python",
   "name": "python3"
  },
  "language_info": {
   "codemirror_mode": {
    "name": "ipython",
    "version": 3
   },
   "file_extension": ".py",
   "mimetype": "text/x-python",
   "name": "python",
   "nbconvert_exporter": "python",
   "pygments_lexer": "ipython3",
   "version": "3.13.7"
  },
  "varInspector": {
   "cols": {
    "lenName": 16,
    "lenType": 16,
    "lenVar": 40
   },
   "kernels_config": {
    "python": {
     "delete_cmd_postfix": "",
     "delete_cmd_prefix": "del ",
     "library": "var_list.py",
     "varRefreshCmd": "print(var_dic_list())"
    },
    "r": {
     "delete_cmd_postfix": ") ",
     "delete_cmd_prefix": "rm(",
     "library": "var_list.r",
     "varRefreshCmd": "cat(var_dic_list()) "
    }
   },
   "types_to_exclude": [
    "module",
    "function",
    "builtin_function_or_method",
    "instance",
    "_Feature"
   ],
   "window_display": false
  }
 },
 "nbformat": 4,
 "nbformat_minor": 4
}
