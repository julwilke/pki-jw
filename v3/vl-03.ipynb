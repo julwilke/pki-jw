{
 "cells": [
  {
   "cell_type": "markdown",
   "id": "b539a6a7",
   "metadata": {},
   "source": [
    "<figure>\n",
    "  <IMG SRC=\"https://upload.wikimedia.org/wikipedia/commons/thumb/d/d5/Fachhochschule_Südwestfalen_20xx_logo.svg/320px-Fachhochschule_Südwestfalen_20xx_logo.svg.png\" WIDTH=250 ALIGN=\"right\">\n",
    "</figure>\n",
    "\n",
    "# Programmierung für KI\n",
    "### Winterersemester 2025/26\n",
    "Prof. Dr. Heiner Giefers"
   ]
  },
  {
   "cell_type": "code",
   "execution_count": null,
   "id": "1b43fb97",
   "metadata": {
    "slideshow": {
     "slide_type": "skip"
    }
   },
   "outputs": [],
   "source": [
    "#%load_ext tutormagic\n",
    "\n",
    "from IPython.core.display import HTML\n",
    "\n",
    "HTML(\"\"\"\n",
    "<style>\n",
    "ul {\n",
    "    margin-top: 0.3em !important;\n",
    "    margin-bottom: 0.3em !important;\n",
    "    padding-left: 1em !important; /* Einzug anpassen */\n",
    "}\n",
    "</style>\n",
    "\"\"\")"
   ]
  },
  {
   "cell_type": "markdown",
   "id": "6f50aa1c",
   "metadata": {
    "slideshow": {
     "slide_type": "slide"
    }
   },
   "source": [
    "## <figure>\n",
    "  <IMG SRC=\"https://upload.wikimedia.org/wikipedia/commons/thumb/d/d5/Fachhochschule_Südwestfalen_20xx_logo.svg/320px-Fachhochschule_Südwestfalen_20xx_logo.svg.png\" WIDTH=250 ALIGN=\"right\">\n",
    "</figure>\n",
    "\n",
    "# Programmierung für KI\n",
    "### Wintersemester 2025/26\n",
    "Prof. Dr. Heiner Giefers"
   ]
  },
  {
   "cell_type": "markdown",
   "id": "8c066c8f",
   "metadata": {
    "slideshow": {
     "slide_type": "slide"
    }
   },
   "source": [
    "### Offene Fragen?\n",
    "- Tuple packing/unpacking"
   ]
  },
  {
   "cell_type": "code",
   "execution_count": null,
   "id": "aea573c8",
   "metadata": {
    "slideshow": {
     "slide_type": "fragment"
    }
   },
   "outputs": [],
   "source": [
    "a = 1\n",
    "b = 42\n",
    "a,b = b,a\n",
    "print(\"a =\", a, \"b =\", b)"
   ]
  },
  {
   "cell_type": "markdown",
   "id": "c065955e",
   "metadata": {
    "slideshow": {
     "slide_type": "slide"
    }
   },
   "source": [
    "## Zusammengesetzte Datentypen\n",
    "\n",
    "1. Zeichenketten (und ein wenig über Dateien)\n",
    "1. Listen\n",
    "1. Tupel\n",
    "1. Dictionaries (aka Wörterbücher)\n",
    "1. Mengen/Sets"
   ]
  },
  {
   "cell_type": "markdown",
   "id": "5cda7503",
   "metadata": {
    "slideshow": {
     "slide_type": "slide"
    }
   },
   "source": [
    "## Zeichenketten und Dateien"
   ]
  },
  {
   "cell_type": "markdown",
   "id": "c5078d36",
   "metadata": {
    "slideshow": {
     "slide_type": "slide"
    }
   },
   "source": [
    "- <code style=\"color:red;\">**str**</code> <font color=\"red\">**ist ein nicht-veränderbarer, sequentieller Datentyp**</font>\n",
    "\n",
    "| <p align=\"left\"> Notation | <p align=\"left\"> Beschreibung |\n",
    "| :--- | :--- |\n",
    "| <p align=\"left\"> `x in s` | <p align=\"left\"> Prüft, ob x in s enthalten ist. Das Ergebnis ist ein Wahrheitswert. |\n",
    "| <p align=\"left\"> `x not in s` | <p align=\"left\"> Prüft, ob x nicht in s enthalten ist. Das Ergebnis ist eine bool-Instanz. Gleichwertig mit not x in s. |\n",
    "| <p align=\"left\"> `s + t` | <p align=\"left\"> Das Ergebnis ist eine neue Sequenz, die die Verkettung von s und t enthält. |\n",
    "| <p align=\"left\"> `s += t` | <p align=\"left\"> Erzeugt die Verkettung von s und t und weist sie s zu. |"
   ]
  },
  {
   "cell_type": "code",
   "execution_count": null,
   "id": "e274365e",
   "metadata": {
    "slideshow": {
     "slide_type": "-"
    }
   },
   "outputs": [],
   "source": []
  },
  {
   "cell_type": "markdown",
   "id": "9ab5df0e",
   "metadata": {
    "slideshow": {
     "slide_type": "subslide"
    }
   },
   "source": [
    "| <p align=\"left\"> Notation | <p align=\"left\"> Beschreibung |\n",
    "| :--- | :--- |\n",
    "| <p align=\"left\"> `s * n oder n * s` | <p align=\"left\"> Liefert eine neue Sequenz, die die Verkettung von n Kopien von s enthält. |\n",
    "| <p align=\"left\"> `s *= n` | <p align=\"left\"> Erzeugt das Produkt s * n und weist es s zu. |\n",
    "| <p align=\"left\"> `s[i]` | <p align=\"left\"> Liefert das i-te Element von s. |\n",
    "| <p align=\"left\"> `s[i:j]` | <p align=\"left\"> Liefert den Ausschnitt aus s von i bis j. |\n",
    "| <p align=\"left\"> `s[i:j:k]` | <p align=\"left\"> Liefert den Ausschnitt aus s von i bis j, wobei nur jedes k-te Element beachtet wird. |"
   ]
  },
  {
   "cell_type": "code",
   "execution_count": null,
   "id": "229b421e",
   "metadata": {
    "slideshow": {
     "slide_type": "fragment"
    }
   },
   "outputs": [],
   "source": [
    "s = \"Hallo Welt!\"\n",
    "s[6]"
   ]
  },
  {
   "cell_type": "markdown",
   "id": "823c065e",
   "metadata": {
    "slideshow": {
     "slide_type": "subslide"
    }
   },
   "source": [
    "| <p align=\"left\"> Notation | <p align=\"left\"> Beschreibung |\n",
    "| :--- | :--- |\n",
    "| <p align=\"left\"> `len(s)` | <p align=\"left\"> Gibt die Anzahl der Elemente von s zurück. |\n",
    "| <p align=\"left\"> `max(s)` | <p align=\"left\"> Liefert das größte Element von s, sofern eine Ordnungsrelation für die Elemente definiert ist. |\n",
    "| <p align=\"left\"> `min(s)` | <p align=\"left\"> Liefert das kleinste Element von s, sofern eine Ordnungsrelation für die Elemente definiert ist. |\n",
    "| <p align=\"left\"> `s.index(x)` | <p align=\"left\"> Gibt den Index des ersten Vorkommens von x in der Sequenz s zurück. |\n",
    "| <p align=\"left\"> `s.count(x)` | <p align=\"left\"> Zählt, wie oft x in der Sequenz s vorkommt. |"
   ]
  },
  {
   "cell_type": "code",
   "execution_count": null,
   "id": "f83812df",
   "metadata": {
    "slideshow": {
     "slide_type": "-"
    }
   },
   "outputs": [],
   "source": []
  },
  {
   "cell_type": "markdown",
   "id": "fe982592",
   "metadata": {
    "slideshow": {
     "slide_type": "slide"
    }
   },
   "source": [
    "- Textersetzung mit `replace`\n",
    "-  Umwandlung Groß-/Kleinschreibung mit `lower` und `upper`"
   ]
  },
  {
   "cell_type": "code",
   "execution_count": null,
   "id": "9e7815fe",
   "metadata": {
    "slideshow": {
     "slide_type": "fragment"
    }
   },
   "outputs": [],
   "source": [
    "'Übergröße'.lower().replace('ü','ue').replace('ö','oe').replace('ß','ss').upper()"
   ]
  },
  {
   "cell_type": "markdown",
   "id": "17515b5f",
   "metadata": {
    "slideshow": {
     "slide_type": "fragment"
    }
   },
   "source": [
    "- Mehrere Ersetzungen gleichzeitig mit `translate` und  `maketrans`"
   ]
  },
  {
   "cell_type": "code",
   "execution_count": null,
   "id": "b4787602",
   "metadata": {
    "slideshow": {
     "slide_type": "-"
    }
   },
   "outputs": [],
   "source": [
    "de_table = str.maketrans({'Ä': 'Ae', 'Ö': 'Oe', 'Ü': 'Ue', \n",
    "                          'ä': 'ae', 'ö': 'oe', 'ü': 'ue', 'ß': 'ss'})\n",
    "'Übergröße'.translate(de_table)"
   ]
  },
  {
   "cell_type": "markdown",
   "id": "335f9312",
   "metadata": {
    "slideshow": {
     "slide_type": "slide"
    }
   },
   "source": [
    "## Dateien\n",
    "- mit `f = open(<Dateiname>, <Modus>)` öffnen, liefert ein *Datei Handle* `f`\n",
    "- mit `f.close()` schließen\n",
    "- Text-Dateien können zeilenweise mit  `for` verarbeitet werden\n",
    "- Binärdateien mit `f.read()` und (auch) mit `f.write()` schreiben"
   ]
  },
  {
   "cell_type": "code",
   "execution_count": null,
   "id": "f8d352d7",
   "metadata": {
    "slideshow": {
     "slide_type": "-"
    }
   },
   "outputs": [],
   "source": [
    "try:\n",
    "    f = open('faust-utf8.txt','r')\n",
    "    i = 1\n",
    "    for line in f:\n",
    "        print(f\"{i:6d}: \",line,end='')\n",
    "        if i==50:\n",
    "            break\n",
    "        i += 1\n",
    "    f.close()\n",
    "except:\n",
    "    print('Datei konnte nicht geoeffnet werden')"
   ]
  },
  {
   "cell_type": "markdown",
   "id": "9be50a44",
   "metadata": {
    "slideshow": {
     "slide_type": "skip"
    }
   },
   "source": [
    "#### Dateien erstellen"
   ]
  },
  {
   "cell_type": "code",
   "execution_count": null,
   "id": "f9250cbf",
   "metadata": {
    "cell_style": "split",
    "slideshow": {
     "slide_type": "skip"
    }
   },
   "outputs": [],
   "source": [
    "f = open('faust-utf8.txt','r')\n",
    "f_neu = open(\"absatz.txt\", 'w')\n",
    "i = 1\n",
    "for line in f:\n",
    "    if i>=35 and i<=42:\n",
    "        f_neu.write(line)\n",
    "    i += 1\n",
    "    if i>42: break;\n",
    "f.close()\n",
    "f_neu.close()"
   ]
  },
  {
   "cell_type": "code",
   "execution_count": null,
   "id": "1befc205",
   "metadata": {
    "cell_style": "split",
    "slideshow": {
     "slide_type": "skip"
    }
   },
   "outputs": [],
   "source": [
    "f = open('absatz.txt','r')\n",
    "for line in f:\n",
    "    print(line.replace('ä','ae'), end='')\n",
    "f.close()"
   ]
  },
  {
   "cell_type": "markdown",
   "id": "13f57b00",
   "metadata": {
    "slideshow": {
     "slide_type": "slide"
    }
   },
   "source": [
    "## Kontextobjekte\n",
    "- mit `with open(<Dateiname>, <Modus>) as f:` öffnen  \n",
    "  → Datei wird am Ende **immer automatisch geschlossen**\n",
    "- kein `f.close()` mehr nötig\n",
    "- sicherer: Datei wird auch bei Fehlern korrekt geschlossen\n",
    "- praktisch für Dateien, Datenbanken oder andere Ressourcen\n",
    "- **allgemeines Konzept**: viele Bibliotheken nutzen `with`, nicht nur Dateien"
   ]
  },
  {
   "cell_type": "code",
   "execution_count": null,
   "id": "3f02476e",
   "metadata": {
    "slideshow": {
     "slide_type": "-"
    }
   },
   "outputs": [],
   "source": [
    "try:\n",
    "    f = open('faust-utf8.txt','r')\n",
    "    for line in f:\n",
    "        if \"Faust\" in line:\n",
    "            raise ValueError(\"Problem!\")\n",
    "        print(line.strip())\n",
    "    f.close()             # wird evtl. NIE erreicht\n",
    "except Exception as e:\n",
    "    print(\"Fehler:\", e)\n"
   ]
  },
  {
   "cell_type": "code",
   "execution_count": null,
   "id": "09651ae2",
   "metadata": {
    "slideshow": {
     "slide_type": "subslide"
    }
   },
   "outputs": [],
   "source": [
    "try:\n",
    "    with open(\"faust-utf8.txt\", \"r\") as f:\n",
    "        for line in f:\n",
    "            if \"Fehler\" in line:\n",
    "                raise ValueError(\"Problem!\")\n",
    "            print(line.strip())\n",
    "except Exception as e:\n",
    "    print(\"Fehler:\", e)\n",
    "# Datei ist hier IMMER geschlossen"
   ]
  },
  {
   "cell_type": "markdown",
   "id": "1015a3eb",
   "metadata": {
    "slideshow": {
     "slide_type": "slide"
    }
   },
   "source": [
    "## Listen\n",
    "\n",
    "- Listen sind eine sequentielle Anordnung die beliebige (Referenzen auf) Objekte aufnehmen kann.\n",
    "\n",
    "- Beispiele für Listen sind etwa:\n",
    "```python\n",
    "a = [1, 2.4, \"Hallo\"]\n",
    "b = [6, 2, [False, True, False], 44]\n",
    "```"
   ]
  },
  {
   "cell_type": "markdown",
   "id": "6868cd75",
   "metadata": {
    "slideshow": {
     "slide_type": "fragment"
    }
   },
   "source": [
    "- Alle **sequenziellen Datentypen** haben gemein, dass ihre Elemente eine feste Anordnung haben und über einen fortlaufenden Index adressierbar sind\n",
    "- `a[2]` liefert den String `Hallo`\n",
    "- `b[2][1]` liefert den Wert `True`."
   ]
  },
  {
   "cell_type": "markdown",
   "id": "e108c78f",
   "metadata": {
    "slideshow": {
     "slide_type": "slide"
    }
   },
   "source": [
    "#### Listen anlegen\n",
    "- Listen werden angelegt, indem die Elemente in eckige Klammern `[...]` geschrieben werden\n",
    "- So lässt sich auch eine leere Liste mit `a = []` erzeugen"
   ]
  },
  {
   "cell_type": "markdown",
   "id": "733dd70f",
   "metadata": {
    "slideshow": {
     "slide_type": "slide"
    }
   },
   "source": [
    "#### Für Listen existieren u.a. die Funktionen:\n",
    "- `l.append(e)` zum Anhängen des Objekts `e` an das Ende der Liste `l`\n",
    "- `l.extend(m)` zum Anhängen aller Elemente von `m` an das Ende der Liste `l`\n",
    "- `l.insert(i, e)` Einfügen des Objekts `e` an der Stelle `i` in die Liste `l`. Die anderen Elemente in `l` rücken von der Position `i` (einschließlich) um eine Position nach hinten\n",
    "- `l.pop([i])` Liefert das `i`-te Element der Liste `l` zurück und entfernt es aus der Liste. Die folgenden Elemente rücken um eine Position nach vorne. Der Parameter `i` ist optional. Fehlt er, wird das letzte Element der Liste entnommen\n",
    "- `l.remove(e)` Entfernt das erste Vorkommen von `e` aus der Liste `l`\n",
    "- `l.reverse()` Kehrt die Reihenfolge der Elemente in s um\n",
    "- `l.sort()` Sortiert die Liste `l` *in-place* (es wird keine neue Liste erzeugt)"
   ]
  },
  {
   "cell_type": "code",
   "execution_count": null,
   "id": "eea9f5a2",
   "metadata": {
    "slideshow": {
     "slide_type": "skip"
    }
   },
   "outputs": [],
   "source": [
    "x = [4,3,2,1]\n",
    "print(id(x), x)\n",
    "x.append(5)\n",
    "print(id(x), x, \"(Hänge ein Element an:)\")\n",
    "x+=[6]\n",
    "print(id(x), x, \"(Verbinde 2 Listen mit '+')\")\n",
    "x=x+[7]\n",
    "print(id(x), x, \"(Die Zuweisung mit '=' erzeugt eine neue Liste)\")\n",
    "x.sort()\n",
    "print(id(x), x, \"(Sortieren)\")\n",
    "y = [9,9,9]\n",
    "x.extend(y)\n",
    "print(id(x), x, \"(Verbinde 2 Listen mit extend())\")\n",
    "x.append(y)\n",
    "print(id(x), x, \"(Anhängen eines Elements vom Typ list)\")\n",
    "x.pop(0) \n",
    "print(id(x), x, \"(Entnehmen des ersten Elements)\")"
   ]
  },
  {
   "cell_type": "markdown",
   "id": "15b55859",
   "metadata": {
    "slideshow": {
     "slide_type": "slide"
    }
   },
   "source": [
    "**Beispiel**\n",
    "\n",
    "Gegeben seien die folgenden Listen `a` und `b`:\n",
    "```python\n",
    "a = [2, 3, 5, 7, 11, 13, 17, 19, 23, 29, 31]\n",
    "b = [1, 2, 3, 4, 5, 6, 7, 8, 9, 10, 11, 12, 13]\n",
    "```\n",
    "Wir wollen eine neue Liste `c` erstellen, die alle Elemente von `a` enthält die **nicht** in `b` sind"
   ]
  },
  {
   "cell_type": "code",
   "execution_count": null,
   "id": "242cfcfa",
   "metadata": {
    "slideshow": {
     "slide_type": "fragment"
    }
   },
   "outputs": [],
   "source": [
    "a = [2, 3, 5, 7, 11, 13, 17, 19, 23, 29, 31]\n",
    "b = [1, 2, 3, 4, 5, 6, 7, 8, 9, 10, 11, 12, 13]\n",
    "c = []"
   ]
  },
  {
   "cell_type": "code",
   "execution_count": null,
   "id": "ea51fa63",
   "metadata": {
    "slideshow": {
     "slide_type": "fragment"
    }
   },
   "outputs": [],
   "source": [
    "for x in a:\n",
    "    if x not in b:\n",
    "        c += [x]"
   ]
  },
  {
   "cell_type": "markdown",
   "id": "0ce63d73",
   "metadata": {
    "slideshow": {
     "slide_type": "slide"
    }
   },
   "source": [
    "#### Unveränderbare und veränderbare Objekte\n",
    "- Python unterscheidet zwischen veränderbaren und unveränderbaren Objekten\n",
    "- Instanzen von Basistypen (`int`, `float`, `str`) sind unveränderbar\n",
    "- Wenn man einem existierenden Namen `x` einen neuen Wert zuweist, so wird ein neues Objekt angelegt und an den Namen `x` gebunden\n"
   ]
  },
  {
   "cell_type": "code",
   "execution_count": null,
   "id": "7f5e0559",
   "metadata": {
    "slideshow": {
     "slide_type": "fragment"
    }
   },
   "outputs": [],
   "source": [
    "x = 1234\n",
    "print(\"ID von x:\", id(x), \"   Wert von x:\", x)\n",
    "x += 1\n",
    "print(\"ID von x:\", id(x), \"   Wert von x:\", x)"
   ]
  },
  {
   "cell_type": "markdown",
   "id": "fb963a0f",
   "metadata": {
    "slideshow": {
     "slide_type": "slide"
    }
   },
   "source": [
    "#### Listen sind veränderbar!"
   ]
  },
  {
   "cell_type": "code",
   "execution_count": null,
   "id": "44e326ca",
   "metadata": {
    "slideshow": {
     "slide_type": "fragment"
    }
   },
   "outputs": [],
   "source": [
    "x = [1,2,3]\n",
    "y = x\n",
    "print(x is y)"
   ]
  },
  {
   "cell_type": "code",
   "execution_count": null,
   "id": "683ee1f0",
   "metadata": {
    "slideshow": {
     "slide_type": "fragment"
    }
   },
   "outputs": [],
   "source": [
    "x[0] = 42\n",
    "print(y)"
   ]
  },
  {
   "cell_type": "markdown",
   "id": "7fa630a6",
   "metadata": {
    "slideshow": {
     "slide_type": "slide"
    }
   },
   "source": [
    "**Achtung**\n",
    "- Ein Objekt eines unveränderbaren Datentyps kann selbst wieder Objekte von veränderbaren Typen enthalten\n",
    "- Im folgenden Beispiel ist die (veränderbare) Liste `x` Teil des (unveränderbaren) Tupels `y` \n",
    "- Wenn `x` geändert wird, ändert sich implizit auch `y` mit"
   ]
  },
  {
   "cell_type": "code",
   "execution_count": null,
   "id": "d679a055",
   "metadata": {
    "slideshow": {
     "slide_type": "-"
    }
   },
   "outputs": [],
   "source": [
    "x = [1,2,3]\n",
    "y = (1,2,x)\n",
    "print(y)\n",
    "x[0]=44\n",
    "print(y)"
   ]
  },
  {
   "cell_type": "markdown",
   "id": "141b3cb9",
   "metadata": {
    "slideshow": {
     "slide_type": "slide"
    }
   },
   "source": [
    "#### Anhängen von Elementen an eine Liste"
   ]
  },
  {
   "cell_type": "code",
   "execution_count": null,
   "id": "ad1a11c5",
   "metadata": {
    "slideshow": {
     "slide_type": "fragment"
    }
   },
   "outputs": [],
   "source": [
    "x = [1,2,3]\n",
    "x.append(4)\n",
    "print(x)\n",
    "\n",
    "#x += [5]\n",
    "#print(x)\n",
    "\n",
    "#x = x + [6]\n",
    "#print(x)"
   ]
  },
  {
   "cell_type": "markdown",
   "id": "aee3cb53",
   "metadata": {
    "slideshow": {
     "slide_type": "slide"
    }
   },
   "source": [
    "  **Achtung**\n",
    "- Es macht einen Unterschied, wie man den `+`-Operator verwendet\n",
    "- `mylist = mylist + [\"New Element\"]` erzeugt ein **neues** Objekt\n",
    "- `mylist += [\"New Element\"]` **verändert** das Objekt"
   ]
  },
  {
   "cell_type": "code",
   "execution_count": null,
   "id": "f0198353",
   "metadata": {
    "slideshow": {
     "slide_type": "fragment"
    }
   },
   "outputs": [],
   "source": [
    "x = [1,2,3]\n",
    "print(\"ID von x:\", id(x), \"   Wert von x:\", x)\n",
    "x = x + [4]\n",
    "print(\"ID von x:\", id(x), \"   Wert von x:\", x)"
   ]
  },
  {
   "cell_type": "markdown",
   "id": "1c5f3c37",
   "metadata": {
    "slideshow": {
     "slide_type": "slide"
    }
   },
   "source": [
    "#### Listen in Funktionen verändern"
   ]
  },
  {
   "cell_type": "code",
   "execution_count": null,
   "id": "229bb219",
   "metadata": {
    "slideshow": {
     "slide_type": "-"
    }
   },
   "outputs": [],
   "source": [
    "def an_liste_anhaengen(liste, elem):\n",
    "    liste += [elem]\n",
    "    \n",
    "x = [1,2,3]\n",
    "an_liste_anhaengen(x, 42)\n",
    "x"
   ]
  },
  {
   "cell_type": "code",
   "execution_count": null,
   "id": "2781cefa",
   "metadata": {
    "slideshow": {
     "slide_type": "fragment"
    }
   },
   "outputs": [],
   "source": [
    "def an_liste_anhaengen(liste, elem):\n",
    "    liste = liste + [elem]\n",
    "    \n",
    "x = [1,2,3]\n",
    "an_liste_anhaengen(x, 42)\n",
    "x"
   ]
  },
  {
   "cell_type": "code",
   "execution_count": null,
   "id": "ba2aa435",
   "metadata": {
    "slideshow": {
     "slide_type": "subslide"
    }
   },
   "outputs": [],
   "source": [
    "%%tutor --lang python3 --cumulative --heapPrimitives\n",
    "def an_liste_anhaengen(liste, elem):\n",
    "    liste = liste + [elem]\n",
    "    \n",
    "x = [1,2,3]\n",
    "an_liste_anhaengen(x, 42)\n",
    "x"
   ]
  },
  {
   "cell_type": "markdown",
   "id": "8a3c32cf",
   "metadata": {
    "slideshow": {
     "slide_type": "skip"
    }
   },
   "source": [
    "<small>[Link zu PythonTutor](https://pythontutor.com/visualize.html#code=def%20an_liste_anhaengen%28liste,%20elem%29%3A%0A%20%20%20%20liste%20%2B%3D%20%5Belem%5D%0A%20%20%20%20%0Ax%20%3D%20%5B1,2,3%5D%0Aan_liste_anhaengen%28x,%2042%29%0Ax&cumulative=false&curInstr=0&heapPrimitives=true&mode=display&origin=opt-frontend.js&py=3&rawInputLstJSON=%5B%5D&textReferences=false)</small>"
   ]
  },
  {
   "cell_type": "markdown",
   "id": "59f84c54",
   "metadata": {
    "slideshow": {
     "slide_type": "slide"
    }
   },
   "source": [
    "## Tupel\n",
    "\n",
    "- `tuple` ist die unveränderbare Variante des Typs `list`\n",
    "- Einmal erzeugte Tupel können nicht mehr verändert werden\n",
    "- Dadurch entfallen viele Funktionalitäten von Listen (z.B. `append`, `extend`, `pop`, ...)\n",
    "- Tupel werden über eine mit Komma getrennte Liste von Elementen erzeugt\n",
    "- Optional kann das Tupel in runde Klammern gesetzt werden.\n",
    "- Durch die Klammern erkennt man auch bei der Ausgabe, dass es sich um einen Tupel-Typ handelt"
   ]
  },
  {
   "cell_type": "code",
   "execution_count": null,
   "id": "5c4d82bf",
   "metadata": {
    "slideshow": {
     "slide_type": "fragment"
    }
   },
   "outputs": [],
   "source": [
    "x = 1,2,3\n",
    "y = ('A',4,5.6)\n",
    "print(x)\n",
    "print(y)"
   ]
  },
  {
   "cell_type": "markdown",
   "id": "ddbb0cd7",
   "metadata": {
    "slideshow": {
     "slide_type": "slide"
    }
   },
   "source": [
    "#### Tupel anlegen\n",
    "- Wie legt man ein Tupel mit nur einem Element an?"
   ]
  },
  {
   "cell_type": "code",
   "execution_count": null,
   "id": "c0d65d94",
   "metadata": {
    "slideshow": {
     "slide_type": "fragment"
    }
   },
   "outputs": [],
   "source": [
    "x = (42)\n",
    "type(x)"
   ]
  },
  {
   "cell_type": "markdown",
   "id": "df774ccd",
   "metadata": {
    "slideshow": {
     "slide_type": "fragment"
    }
   },
   "source": [
    "- Programmcode kann nicht doppeldeutig sein\n",
    "- `(42)` ist eine *geklammerte 42* und kein Tupel!"
   ]
  },
  {
   "cell_type": "code",
   "execution_count": null,
   "id": "30677f3c",
   "metadata": {
    "slideshow": {
     "slide_type": "fragment"
    }
   },
   "outputs": [],
   "source": [
    "x = (42,)\n",
    "type(x)"
   ]
  },
  {
   "cell_type": "markdown",
   "id": "94e78283",
   "metadata": {
    "slideshow": {
     "slide_type": "slide"
    }
   },
   "source": [
    "#### Tupel und Listen\n",
    "- Mit `list()` und `tuple()` lassen sich Listen bzw. Tupel erzeugen"
   ]
  },
  {
   "cell_type": "code",
   "execution_count": null,
   "id": "2a7023b1",
   "metadata": {
    "slideshow": {
     "slide_type": "fragment"
    }
   },
   "outputs": [],
   "source": [
    "x = \"ABC\"\n",
    "print(type(x), x)\n",
    "x = tuple(x)\n",
    "print(type(x), x)\n",
    "x = list(x)\n",
    "print(type(x), x)"
   ]
  },
  {
   "cell_type": "markdown",
   "id": "32849d0a",
   "metadata": {
    "slideshow": {
     "slide_type": "slide"
    }
   },
   "source": [
    "- Mit `join()` können `str`-Elemente aus Listen/Tupeln zu Zeichenketten verbunden werden"
   ]
  },
  {
   "cell_type": "code",
   "execution_count": null,
   "id": "ec9455f0",
   "metadata": {},
   "outputs": [],
   "source": [
    "mystring = ''.join(x)\n",
    "print(type(mystring), mystring)"
   ]
  },
  {
   "cell_type": "markdown",
   "id": "75a2e993",
   "metadata": {
    "slideshow": {
     "slide_type": "slide"
    }
   },
   "source": [
    "#### Packing / Unpacking\n",
    "\n",
    "- Das Zusammenfassen von Elementen zu einem Tupel heißt *tuple packing*\n",
    "- Das Ganze funktioniert auch in andere Richtung, mit *unpacking*\n",
    "- Zuweisung eines Tupels (oder eines anderen sequentiellen Datentyps) auf mehrere Variable.\n"
   ]
  },
  {
   "cell_type": "code",
   "execution_count": null,
   "id": "31801949",
   "metadata": {
    "cell_style": "split",
    "slideshow": {
     "slide_type": "-"
    }
   },
   "outputs": [],
   "source": [
    "x = \"123\"\n",
    "a,b,c = x\n",
    "print(a,b,c)"
   ]
  },
  {
   "cell_type": "code",
   "execution_count": null,
   "id": "a7d219d6",
   "metadata": {
    "cell_style": "split",
    "slideshow": {
     "slide_type": "fragment"
    }
   },
   "outputs": [],
   "source": [
    "x = (1,2,3,4,5,6,7,8,9)\n",
    "a, *b, c = x\n",
    "print(a,b,c) "
   ]
  },
  {
   "cell_type": "markdown",
   "id": "629fffb5",
   "metadata": {
    "slideshow": {
     "slide_type": "subslide"
    }
   },
   "source": [
    "#### Vertauschen von Werten mit Packing/Unpacking"
   ]
  },
  {
   "cell_type": "code",
   "execution_count": null,
   "id": "869a7e70",
   "metadata": {
    "slideshow": {
     "slide_type": "-"
    }
   },
   "outputs": [],
   "source": [
    "a, b = 10, 20\n",
    "print(f\"a={a} und b={b}\")\n",
    "a, b = b, a\n",
    "print(f\"a={a} und b={b}\")"
   ]
  },
  {
   "cell_type": "markdown",
   "id": "9e81abad",
   "metadata": {
    "slideshow": {
     "slide_type": "fragment"
    }
   },
   "source": [
    "#### Rückgabe mehrerer Werte durch eine Funktion"
   ]
  },
  {
   "cell_type": "code",
   "execution_count": null,
   "id": "a81ca42b",
   "metadata": {
    "slideshow": {
     "slide_type": "-"
    }
   },
   "outputs": [],
   "source": [
    "def dummy():\n",
    "    return 1, \"Zwei\", 3.0\n",
    "x,y,z = dummy()\n",
    "print(x,y,z)"
   ]
  },
  {
   "cell_type": "markdown",
   "id": "6116cee4",
   "metadata": {
    "slideshow": {
     "slide_type": "slide"
    }
   },
   "source": [
    "#### Listen aus Listen erzeugen: *List Comprehensions*\n",
    "- Mit `for`-Schleifen können Sequentielle Datentypen\\* iteriert werden<br>\n",
    "<small>(\\*Listen, Tupel, Zeichenketten, ...)</small>\n",
    "- List Comprehensions sind eine Kurzschreibweise, um eine Liste aus anderen Listen/Tupeln zu *erzeugen*"
   ]
  },
  {
   "cell_type": "code",
   "execution_count": null,
   "id": "241573d1",
   "metadata": {
    "slideshow": {
     "slide_type": "fragment"
    }
   },
   "outputs": [],
   "source": [
    "k = 4\n",
    "x = [i for i in range(k)]\n",
    "print(f\"x = {x}\")"
   ]
  },
  {
   "cell_type": "code",
   "execution_count": null,
   "id": "b9d6df0e",
   "metadata": {
    "slideshow": {
     "slide_type": "fragment"
    }
   },
   "outputs": [],
   "source": [
    "y = [j+i*k for i in x for j in x]\n",
    "print(f\"y = {y}\")"
   ]
  },
  {
   "cell_type": "markdown",
   "id": "4dd88f36",
   "metadata": {
    "slideshow": {
     "slide_type": "slide"
    }
   },
   "source": [
    "#### Indizierung\n",
    "- Über Index-Klammern `[]` kann man auf einzelne Elemente eines sequenziellen Datentyps zugreifen\n",
    "- Man kann ebenfalls **Bereiche** aus einer Sequenz selektieren (*array slicing*)\n",
    "- Endwert ist **exklusiv** und gehört damit nicht mehr zu dem Bereich!\n",
    "- `x[2:5]` liefert die Elemente `x[2]`, `x[3]` und `x[4]` (als Sequenz)"
   ]
  },
  {
   "cell_type": "code",
   "execution_count": null,
   "id": "c9f888fb",
   "metadata": {
    "slideshow": {
     "slide_type": "fragment"
    }
   },
   "outputs": [],
   "source": [
    "s = list(\"Programmiersprachenbuch\")\n",
    "print(s[11:19])\n",
    "print(s[19])"
   ]
  },
  {
   "cell_type": "markdown",
   "id": "1bd2742c",
   "metadata": {
    "slideshow": {
     "slide_type": "slide"
    }
   },
   "source": [
    "#### Array Slicing\n",
    "\n",
    "- Die allgemeine Form ist `[ Start : Ende : Schrittweite ]`\n",
    "- Indizierung *von Hinten* ist mit negativen werten möglich\n",
    "- Standardwerte können weggelassen werden\n"
   ]
  },
  {
   "cell_type": "code",
   "execution_count": null,
   "id": "abe599b9",
   "metadata": {
    "slideshow": {
     "slide_type": "-"
    }
   },
   "outputs": [],
   "source": [
    "s = \"Hallo!\"\n",
    "s[-1]"
   ]
  },
  {
   "cell_type": "code",
   "execution_count": null,
   "id": "885fc1ab",
   "metadata": {
    "slideshow": {
     "slide_type": "fragment"
    }
   },
   "outputs": [],
   "source": [
    "satz = \"Nie setzt es ein\"\n",
    "satz[::-1]\n",
    "#satz[0:7:2]"
   ]
  },
  {
   "cell_type": "markdown",
   "id": "3c5482b7",
   "metadata": {
    "slideshow": {
     "slide_type": "slide"
    }
   },
   "source": [
    "## Dictionaries (aka *Wörterbücher*)\n",
    "\n",
    "- *Mappings* sind Datentypen, die Zuordnungen zwischen verschiedenen Objekten herstellen\n",
    "- Der Python Datentyp, *Dictionary* gehört zu dieser Kategorie.\n",
    "- Ein Dictionary enthält beliebig viele Schlüssel-Wert-Paare (engl. *key/value pairs*)\n",
    "- Schlüssel und Wert können *irgendwelche* Objecte sein\n",
    "- Der Datentyp `dict` ist *mutabel*, also veränderlich"
   ]
  },
  {
   "cell_type": "code",
   "execution_count": null,
   "id": "683f5400",
   "metadata": {
    "slideshow": {
     "slide_type": "fragment"
    }
   },
   "outputs": [],
   "source": [
    "d = {2: \"A\", \"Drei\": 3}\n",
    "d[2]"
   ]
  },
  {
   "cell_type": "code",
   "execution_count": null,
   "id": "22e6c488",
   "metadata": {
    "slideshow": {
     "slide_type": "fragment"
    }
   },
   "outputs": [],
   "source": [
    "d = {2: \"A\", \"Drei\": 3, (1,'X'): \"Vier\"}\n",
    "d[(1,'X')]"
   ]
  },
  {
   "cell_type": "markdown",
   "id": "b58a72b2",
   "metadata": {
    "slideshow": {
     "slide_type": "slide"
    }
   },
   "source": [
    "Dictionaries sind nützlich, wenn\n",
    "- man Daten unter einem bestimmten *Stichwort* ablegen möchte\n",
    "- man bestimmt Objekte *zählen* möchte"
   ]
  },
  {
   "cell_type": "code",
   "execution_count": null,
   "id": "0db9e744",
   "metadata": {
    "slideshow": {
     "slide_type": "-"
    }
   },
   "outputs": [],
   "source": [
    "haupstaedte = {\"DE\" : \"Berlin\", \"FR\" : \"Paris\", \"US\" : \"Washington\", \"CH\" : \"Bern\"}\n",
    "for s in haupstaedte:\n",
    "    print(haupstaedte[s])"
   ]
  },
  {
   "cell_type": "code",
   "execution_count": null,
   "id": "647c620d",
   "metadata": {
    "cell_style": "split",
    "slideshow": {
     "slide_type": "fragment"
    }
   },
   "outputs": [],
   "source": [
    "d = {}\n",
    "d[\"Test\"] = 1\n",
    "d[\"Test\"] += 1\n",
    "d[\"Test\"]"
   ]
  },
  {
   "cell_type": "markdown",
   "id": "f362609a",
   "metadata": {
    "slideshow": {
     "slide_type": "slide"
    }
   },
   "source": [
    "- Was ist, wenn man nicht weiß, ob ein Key bereits im Dictionary ist?\n",
    "\n",
    "- Wenn `d` den Key `wort` nicht enthält, führt `d[wort] += 1` zu einem Fehler."
   ]
  },
  {
   "cell_type": "code",
   "execution_count": null,
   "id": "f0223274",
   "metadata": {
    "cell_style": "split",
    "slideshow": {
     "slide_type": "fragment"
    }
   },
   "outputs": [],
   "source": [
    "wort = \"test\"\n",
    "if wort in d:\n",
    "    d[wort] += 1\n",
    "else:\n",
    "    d[wort] = 1\n",
    "d"
   ]
  },
  {
   "cell_type": "markdown",
   "id": "89a3a1d1",
   "metadata": {
    "slideshow": {
     "slide_type": "slide"
    }
   },
   "source": [
    "- `d.clear()` Löscht alle Elemente aus dem Dictionary `d`\n",
    "- `d.copy()` Erzeugt eine Kopie von `d`\n",
    "- `d.get(k,default)` Liefert `d[k]`, wenn der Schlüssel `k` vorhanden ist, ansonsten `default`. Im Gegensatz zu `d[k]` erzeugt `d.get(k)` keinen Laufzeitfehler, wenn `k` nicht existiert\n",
    "- `d.items()` Liefert ein iterierbares Objekt, mit allen Schlüssel-Wert-Paare von `d`\n",
    "- `d.keys()` Liefert ein iterierbares Objekt, mit dem man alle Schlüssel von `d` durchlaufen kann\n",
    "- `d.values()` Liefert ein iterierbares Objekt, mit dem man alle Werte von `d` durchlaufen kann\n",
    "- `d.pop(k)` Liefert den zum Key `k` gehörigen Wert und löscht den Key aus dem Dictionary `d`\n",
    "- `d.popitem()` Gibt ein willkürliches Schlüssel-Wert-Paar von `d` zurück und entfernt es aus `d`\n",
    "- `d.setdefault(k, [x])` Fügt den Wert `x` unter dem Schlüsssel `k` hinzu, falls `k` nicht schon vorhanden ist\n",
    "- `d.update(d2)` Fügt ein Dictionary `d2` zu `d` hinzu und überschreibt ggf. Werte vorhandener Keys\n",
    "- `dict.fromkeys(s, [v])` Erstelle ein neues Dictionary mit den Werten der Liste `s` als Schlüssel und setzte alle Werte auf `v`"
   ]
  },
  {
   "cell_type": "markdown",
   "id": "53d807a3",
   "metadata": {
    "slideshow": {
     "slide_type": "slide"
    }
   },
   "source": [
    "## Mengen (*Sets*)\n",
    "\n",
    "Eine Menge (engl. *set*) ist eine ungeordnete Sammlung von Elementen, in der jedes Element nur einmal enthalten sein darf.\n",
    "\n",
    "In Python gibt es zur Darstellung von Mengen zwei Basisdatentypen: `set` für eine veränderliche Menge sowie `frozenset` für eine unveränderliche Menge."
   ]
  },
  {
   "cell_type": "code",
   "execution_count": null,
   "id": "417f515e",
   "metadata": {
    "slideshow": {
     "slide_type": "fragment"
    }
   },
   "outputs": [],
   "source": [
    "my_tuple = (4,4,4,4,'drei','drei','drei',2,2,1)\n",
    "print(my_tuple)\n",
    "my_set = set(my_tuple)\n",
    "print(my_set)"
   ]
  },
  {
   "cell_type": "markdown",
   "id": "482e13db",
   "metadata": {
    "slideshow": {
     "slide_type": "slide"
    }
   },
   "source": [
    "Auf Mengen sind auch die mathematischen Mengenoperationen definiert.\n",
    "\n",
    "Mit `t <= s`überprüft man, ob `t` eine Teilmenge von `s` ist.\n",
    "\n",
    "Die Vereinigungsmenge von `s` und `t` bildet man mit `s | t`, die Schnittmenge mit `s & t`."
   ]
  },
  {
   "cell_type": "code",
   "execution_count": null,
   "id": "516d6ea6",
   "metadata": {
    "cell_style": "center",
    "slideshow": {
     "slide_type": "fragment"
    }
   },
   "outputs": [],
   "source": [
    "my_new_set = set(('drei',))\n",
    "print(\"Teilmenge?\", my_new_set <= my_set)\n",
    "print(\"Schnittmenge:\", my_set & my_new_set)\n",
    "my_very_new_set = set(('fuenf',))\n",
    "my_set |= my_very_new_set\n",
    "print(\"Vereinigungsmenge:\", my_set)"
   ]
  },
  {
   "cell_type": "code",
   "execution_count": null,
   "id": "4dc1cd13",
   "metadata": {
    "slideshow": {
     "slide_type": "slide"
    }
   },
   "outputs": [],
   "source": [
    "import os\n",
    "import re\n",
    "fname = \"vl-03.ipynb\"\n",
    "words = []\n",
    "with open(fname) as file:\n",
    "    for line in file:\n",
    "        words.extend(re.split(' ', re.sub(r\"[,.;@#?!&$]+\\ *\",\" \",line)))\n",
    "\n",
    "print(f\"Worte insgesamt: {len(words):14}\")\n",
    "print(f\"Unterschiedliche Worte: {len(set(words)):7}\")\n"
   ]
  },
  {
   "cell_type": "markdown",
   "id": "aeaf989f",
   "metadata": {
    "cell_style": "center",
    "slideshow": {
     "slide_type": "slide"
    }
   },
   "source": [
    "## Zum 4. Termin\n",
    "- **Reguläre Ausdrücke:** Informationen aus Daten extrahieren\n",
    "- **Web-Zugriffe:** Daten aus dem Internet *abgreifen*"
   ]
  },
  {
   "cell_type": "markdown",
   "id": "d2ac4420",
   "metadata": {
    "slideshow": {
     "slide_type": "slide"
    }
   },
   "source": [
    "## Beispiel: Passwort-Generator\n",
    "\n",
    "**Schreiben Sie eine Funktion, mit der man Passwörter bestimmeter Länge genrieren kann. Die Funktion soll es ermöglichen, dass man die (Mindest-) Anzahl der Klein- und Großbuchstaben sowie der Ziffern und Sonderzeichen angeben kann.**"
   ]
  },
  {
   "cell_type": "markdown",
   "id": "d7e3c0ba",
   "metadata": {
    "slideshow": {
     "slide_type": "fragment"
    }
   },
   "source": [
    "**Lösungsidee:**"
   ]
  },
  {
   "cell_type": "markdown",
   "id": "c41a9205",
   "metadata": {
    "slideshow": {
     "slide_type": "fragment"
    }
   },
   "source": [
    "- Lege Listen mit den entsprechenden Zeichenklassen an"
   ]
  },
  {
   "cell_type": "markdown",
   "id": "6da2e352",
   "metadata": {
    "slideshow": {
     "slide_type": "fragment"
    }
   },
   "source": [
    "- Ziehe so viele Zeichen aus den entsprechend Klassen, wie beim Funktionsuafruf angegeben"
   ]
  },
  {
   "cell_type": "markdown",
   "id": "6240e54b",
   "metadata": {
    "slideshow": {
     "slide_type": "fragment"
    }
   },
   "source": [
    "- Sammle alle Zeichen in einer neuen Liste und fülle ggf. mit Kleinbuchstaben auf"
   ]
  },
  {
   "cell_type": "markdown",
   "id": "9718da98",
   "metadata": {
    "slideshow": {
     "slide_type": "fragment"
    }
   },
   "source": [
    "- Durchmische die Liste und gebe das Passwort zurück"
   ]
  },
  {
   "cell_type": "markdown",
   "id": "6eab83b0",
   "metadata": {
    "slideshow": {
     "slide_type": "slide"
    }
   },
   "source": [
    "- Zur Lösung der Aufgabe benötigen wir Zufallszahlen\n",
    "- Die bekommen wir mit dem Modul `random`"
   ]
  },
  {
   "cell_type": "code",
   "execution_count": null,
   "id": "f9f8dbe6",
   "metadata": {
    "slideshow": {
     "slide_type": "fragment"
    }
   },
   "outputs": [],
   "source": [
    "import random\n",
    "\n",
    "my_list = [1,2,3,4,5]\n",
    "\n",
    "for i in range(3):\n",
    "    random.shuffle(my_list)\n",
    "    print(my_list)\n",
    "    print(\"Ein zufälliges Element: \", end='')\n",
    "    print(random.choice(my_list))"
   ]
  },
  {
   "cell_type": "markdown",
   "id": "b2141832",
   "metadata": {
    "slideshow": {
     "slide_type": "slide"
    }
   },
   "source": [
    "Wir benötigen nun noch die Listen der Zeichenklassen"
   ]
  },
  {
   "cell_type": "code",
   "execution_count": null,
   "id": "751611f8",
   "metadata": {
    "slideshow": {
     "slide_type": "fragment"
    }
   },
   "outputs": [],
   "source": [
    "for zeichen in ['a', 'b', 'c']:\n",
    "    print(f\"Der Zeichencode für {zeichen} lautet {ord(zeichen)}\")\n",
    "\n",
    "#help(ord)"
   ]
  },
  {
   "cell_type": "code",
   "execution_count": null,
   "id": "0dcfa656",
   "metadata": {
    "slideshow": {
     "slide_type": "fragment"
    }
   },
   "outputs": [],
   "source": [
    "for i in range(ord('a'), ord('z')+1):\n",
    "    print(chr(i), end=' ')"
   ]
  },
  {
   "cell_type": "markdown",
   "id": "563eb6ff",
   "metadata": {
    "slideshow": {
     "slide_type": "slide"
    }
   },
   "source": [
    "Tatsächlich bekommt man die Zeichen auch etwas einfacher:"
   ]
  },
  {
   "cell_type": "code",
   "execution_count": null,
   "id": "a7c16182",
   "metadata": {
    "slideshow": {
     "slide_type": "fragment"
    }
   },
   "outputs": [],
   "source": [
    "import string\n",
    "lowercase = list(string.ascii_lowercase)\n",
    "uppercase = list(string.ascii_uppercase)\n",
    "print(' '.join(lowercase))\n",
    "print(' '.join(uppercase))"
   ]
  },
  {
   "cell_type": "markdown",
   "id": "939eb6b1",
   "metadata": {
    "slideshow": {
     "slide_type": "slide"
    }
   },
   "source": [
    "Nun noch die Ziffern..."
   ]
  },
  {
   "cell_type": "code",
   "execution_count": null,
   "id": "a90becce",
   "metadata": {
    "slideshow": {
     "slide_type": "-"
    }
   },
   "outputs": [],
   "source": [
    "digits = [str(i) for i in range(10)]\n",
    "print(digits)"
   ]
  },
  {
   "cell_type": "markdown",
   "id": "d8c9dde8",
   "metadata": {
    "slideshow": {
     "slide_type": "fragment"
    }
   },
   "source": [
    "...und die Sonderzeichen:"
   ]
  },
  {
   "cell_type": "code",
   "execution_count": null,
   "id": "b62bd4c2",
   "metadata": {
    "slideshow": {
     "slide_type": "-"
    }
   },
   "outputs": [],
   "source": [
    "special = [c for c in '!§$%&/()=?+-.,']\n",
    "print(special)"
   ]
  },
  {
   "cell_type": "code",
   "execution_count": null,
   "id": "0d499bf4",
   "metadata": {
    "slideshow": {
     "slide_type": "slide"
    }
   },
   "outputs": [],
   "source": [
    "import random\n",
    "import string\n",
    "\n",
    "def gen_password(n, lowers=0, uppers=0, digits=0, special=0):\n",
    "\n",
    "    lowercase = list(string.ascii_lowercase)\n",
    "    uppercase = list(string.ascii_uppercase)\n",
    "    digits    = [str(i) for i in range(10)]\n",
    "    special   = list('!§$%&/()=?+-.,')\n"
   ]
  },
  {
   "cell_type": "code",
   "execution_count": null,
   "id": "2342f062",
   "metadata": {
    "slideshow": {
     "slide_type": "slide"
    }
   },
   "outputs": [],
   "source": [
    "import random\n",
    "import string\n",
    "\n",
    "def gen_password(n, lowers=0, uppers=0, digits=0, specials=0):\n",
    "    by_rule = lowers+uppers+digits+specials\n",
    "    if(by_rule>n):\n",
    "        print(\"Not possible!\")\n",
    "        return None\n",
    "    letters = {}\n",
    "    letters[\"lowercase\"] = (lowers+n-by_rule, list(string.ascii_lowercase))\n",
    "    letters[\"uppercase\"] = (uppers, list(string.ascii_uppercase))\n",
    "    letters[\"digits\"] = (digits, [str(i) for i in range(10)])\n",
    "    letters[\"specials\"] = (specials, list('!§$%&/()=?+-.,'))\n",
    "    seq = []\n",
    "    for k in letters:\n",
    "        seq.extend([random.choice(letters[k][1]) for i in range(letters[k][0])])\n",
    "    random.shuffle(seq)\n",
    "    return ''.join(seq)\n",
    "\n",
    "for test in range(10):\n",
    "    print(gen_password(12,2,2,1,1))"
   ]
  }
 ],
 "metadata": {
  "kernelspec": {
   "display_name": ".venv",
   "language": "python",
   "name": "python3"
  },
  "language_info": {
   "codemirror_mode": {
    "name": "ipython",
    "version": 3
   },
   "file_extension": ".py",
   "mimetype": "text/x-python",
   "name": "python",
   "nbconvert_exporter": "python",
   "pygments_lexer": "ipython3",
   "version": "3.13.7"
  },
  "rise": {
   "enable_chalkboard": true
  },
  "varInspector": {
   "cols": {
    "lenName": 16,
    "lenType": 16,
    "lenVar": 40
   },
   "kernels_config": {
    "python": {
     "delete_cmd_postfix": "",
     "delete_cmd_prefix": "del ",
     "library": "var_list.py",
     "varRefreshCmd": "print(var_dic_list())"
    },
    "r": {
     "delete_cmd_postfix": ") ",
     "delete_cmd_prefix": "rm(",
     "library": "var_list.r",
     "varRefreshCmd": "cat(var_dic_list()) "
    }
   },
   "types_to_exclude": [
    "module",
    "function",
    "builtin_function_or_method",
    "instance",
    "_Feature"
   ],
   "window_display": false
  }
 },
 "nbformat": 4,
 "nbformat_minor": 5
}
